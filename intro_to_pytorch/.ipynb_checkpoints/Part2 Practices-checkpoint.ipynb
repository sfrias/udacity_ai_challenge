{
 "cells": [
  {
   "cell_type": "markdown",
   "metadata": {},
   "source": [
    "# Part 2 Practices\n",
    "\n",
    "## How to use torch.sum()\n",
    "\n",
    "Resource\n",
    ">https://stackoverflow.com/questions/44790670/torch-sum-a-tensor-along-an-axis\n",
    "\n",
    "To sum all elements of a tensor:\n",
    ">torch.sum(outputs) # gives back a scalar\n",
    "\n",
    "To sum over all rows (i.e. for each column):\n",
    ">torch.sum(outputs, dim=0) # size = [ncol]\n",
    "\n",
    "To sum over all columns (i.e. for each row):\n",
    ">torch.sum(outputs, dim=1) # size = [nrow]\n",
    "\n"
   ]
  },
  {
   "cell_type": "code",
   "execution_count": 3,
   "metadata": {},
   "outputs": [
    {
     "name": "stdout",
     "output_type": "stream",
     "text": [
      "torch.Size([2, 3])\n",
      "tensor([3, 6, 9])\n",
      "tensor([ 6, 12])\n",
      "tensor([1, 2, 3])\n",
      "torch.Size([3])\n",
      "tensor([[1, 1, 1],\n",
      "        [2, 2, 2]])\n",
      "tensor([[14],\n",
      "        [28]])\n"
     ]
    }
   ],
   "source": [
    "import torch\n",
    "## just simple practice\n",
    "test_tensor = torch.tensor([[1,2,3],[2,4,6]])\n",
    "print(test_tensor.shape)\n",
    "print(torch.sum(test_tensor, dim=0)) # summation of values in the same column\n",
    "print(torch.sum(test_tensor, dim=1)) # summation of values in the same row\n",
    "\n",
    "\n",
    "test_denominator = torch.tensor([1,2,3])\n",
    "print(test_denominator)\n",
    "print(test_denominator.shape)\n",
    "\n",
    "# it's different form matrix multiplication\n",
    "print(test_tensor / test_denominator.view(1,3)) # (2,3) / (1,3) works\n",
    "# print(test_tensor / test_denominator.view(3,1)) # (2,3) / (3,1) doesn't work\n",
    "\n",
    "# print(test_tensor.mm(test_denominator.view(1,3))) # (2,3) / (1,3) doesn't work\n",
    "print(test_tensor.mm(test_denominator.view(3,1))) # (2,3) / (3,1) works\n"
   ]
  },
  {
   "cell_type": "markdown",
   "metadata": {},
   "source": [
    "## What is [:] ? \n",
    "It means everywhere(e.g. every item in a column, in a row, etc)  \n",
    "For example, myTensor[:, :] means items in every rows and columns of myTensor"
   ]
  },
  {
   "cell_type": "code",
   "execution_count": 4,
   "metadata": {},
   "outputs": [
    {
     "name": "stdout",
     "output_type": "stream",
     "text": [
      "tensor([[0, 0, 0],\n",
      "        [0, 0, 0],\n",
      "        [0, 0, 0]])\n",
      "tensor([[0, 0, 0],\n",
      "        [0, 1, 0],\n",
      "        [0, 0, 0]])\n",
      "tensor([[1, 1, 1],\n",
      "        [1, 1, 1],\n",
      "        [0, 0, 0]])\n",
      "tensor([1, 1, 1])\n"
     ]
    }
   ],
   "source": [
    "myTensor = torch.tensor([[1,2,3],[2,4,6],[3,6,9]])\n",
    "myTensor[:, :] = 0   # Assign zeros everywhere in the matrix.\n",
    "print(myTensor)\n",
    "myTensor[1, 1] = 1   # Assign one in position 3, 3\n",
    "print(myTensor)\n",
    "myTensor[:2, :] = 1   # Assign ones on the top 2 rows.\n",
    "print(myTensor)\n",
    "myTensor[-2:, :] = 1    # Assign ones on the bottom 2 rows.\n",
    "print(myTensor[0,:]) # return 1st row"
   ]
  }
 ],
 "metadata": {
  "kernelspec": {
   "display_name": "Python 3",
   "language": "python",
   "name": "python3"
  },
  "language_info": {
   "codemirror_mode": {
    "name": "ipython",
    "version": 3
   },
   "file_extension": ".py",
   "mimetype": "text/x-python",
   "name": "python",
   "nbconvert_exporter": "python",
   "pygments_lexer": "ipython3",
   "version": "3.7.3"
  }
 },
 "nbformat": 4,
 "nbformat_minor": 2
}
